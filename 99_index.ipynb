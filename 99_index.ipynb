{
 "cells": [
  {
   "cell_type": "code",
   "execution_count": 8,
   "metadata": {},
   "outputs": [],
   "source": [
    "#hide\n",
    "from Image_slicer.core import *"
   ]
  },
  {
   "cell_type": "markdown",
   "metadata": {},
   "source": [
    "# Image.slicer\n",
    "\n",
    "> Slice images/labels with overlapping and in different scales. Predict (with fastai) and merge the sliced images to full size"
   ]
  },
  {
   "cell_type": "markdown",
   "metadata": {},
   "source": [
    "### Feature"
   ]
  },
  {
   "cell_type": "markdown",
   "metadata": {},
   "source": [
    "- Preprocess of high resolution imagery and label data for use in Semantic Segmentation tasks (Deep Learning)\n",
    "- Increases amount of trainingdata by generating different scales and overlappings for images and labels\n",
    "- Multi stage interpolation (Nearest Neighbor + Bicubic combined) for image data\n",
    "- Nearest Neighbor interpolation for label data\n",
    "- More than half empty slices will be ignored / It´s possilbe to slice a dismembered Mosaik!\n",
    "- Add padding (to the right and bottom) to your high resolution images\n",
    "- Do fastai predictions and merge the images to full size"
   ]
  },
  {
   "cell_type": "markdown",
   "metadata": {},
   "source": [
    "## Install"
   ]
  },
  {
   "cell_type": "markdown",
   "metadata": {},
   "source": [
    "`pip install your_project_name`"
   ]
  },
  {
   "cell_type": "markdown",
   "metadata": {},
   "source": [
    "## How to use"
   ]
  },
  {
   "cell_type": "markdown",
   "metadata": {},
   "source": [
    "\n",
    "```python\n",
    "\n",
    "from notebook.exp.Image_Slicer import *\n",
    "\n",
    "inp_d = Path(\"/Users/Abalone/Desktop/Vaihingen\") \n",
    "# Directory where the Raw Images are stored\n",
    "resize = 448 # Output size for the sliced Images\n",
    "slice_range = [500, 900] # List of slice sizes in pixel\n",
    "overlap = 7 # Ratio of overlapping (here 1:7 see image below)\n",
    "dir_name = f'test4_{resize}_{overlap}_{slice_range[0]}-{slice_range[1]}' \n",
    "#dir_name = test4_448_7_500-900\n",
    "#Directory name to save the outputs in \n",
    "\n",
    "# Dictionary to convert rgb masks to greyscale\n",
    "palette = {0 : (255, 255, 255), # Impervious surfaces (white)\n",
    "           1 : (0, 0, 255),     # Buildings (blue)\n",
    "           2 : (0, 255, 255),   # Low vegetation (cyan)\n",
    "           3 : (0, 255, 0),     # Trees (green)\n",
    "           4 : (255, 255, 0),   # Cars (yellow)\n",
    "           5 : (255, 0, 0),     # Clutter (red)\n",
    "           6 : (0, 0, 0)}       # Undefined (black)\n",
    "\n",
    "# Generate quantiles from slice_range (0% , 25% , 50% , 75% , 100%)\n",
    "slice_l = ImageSlicer.quantile_from_slice_range(slice_range)\n",
    "slice_l = [500 , 600 , 700, 800 , 900]\n",
    "\n",
    "# Showing slices in Notebook\n",
    "ImageSlicer.show_slices(slice_l, inp_d)\n",
    "```\n",
    "<img src=\"https://github.com/abalone1/Image.slicer/blob/master/pic/show_slices.png\" width=\"400\">\n",
    "\n",
    "```python\n",
    "# Add Padding\n",
    "pad = 900 # In Pixel (added to the right and bottom)\n",
    "ImageSlicer.add_padding(inp_d, pad = pad)\n",
    "\n",
    "# For Image data\n",
    "ImageSlicer.slice_images(inp_d= inp_d, dir_name = dir_name, slice_l = slice_l ,\n",
    "                         resize=resize, overlap = overlap)        \n",
    "```\n",
    "<img src=\"https://github.com/abalone1/Image.slicer/blob/master/pic/Image_slicer.png\" width=\"600\">\n",
    "\n",
    "```python\n",
    "\n",
    "# For label data\n",
    "inp_d_label = Path(\"/Users/Abalone//Test_vahingen/vaihingen_mask\")\n",
    "ImageSlicer.slice_masks(inp_d= inp_d2, dir_name = dir_name, slice_l = slice_l ,\n",
    "                       resize= resize , overlap = overlap , palette = palette)\n",
    "                       \n",
    "```\n",
    "<img src=\"https://github.com/abalone1/Image.slicer/blob/master/pic/Mask_slicer.png\" width=\"700\">\n",
    "\n",
    "#### Parameter\n",
    "\n",
    "**inp_d** - Path(\"Path to image directory\") <br />\n",
    "**dir_name** - Name of the directory where the images or labels are stored <br />\n",
    "**resize** - In pixel: What should be the dimension of the sliced Images? <br />\n",
    "**slice_range** - # In pixel: List of slice sizes <br />\n",
    "**overlap** - How much Overlap (ratio) 1:? on each side? <br />\n",
    "**pad** - How much Padding you want to add to your high resolution Images\n",
    "\n",
    "<p align=\"center\">\n",
    "<img src=\"https://github.com/abalone1/Image.slicer/blob/master/pic/Overlap2.png\" width=\"700\">\n",
    "</p>\n",
    "\n",
    "#### optional\n",
    "**out_path** - Path to output directory <br />\n",
    "**palette** -  Dictionary to convert rgb masks to greyscale <br />\n",
    "**slice_l** -  *ImageSlicer.quantile_from_slice_range* generates quantile from **'slice_range'** <br />\n",
    "**half_empty** - If set to **True**: More than half empty slices will be ignored from the algorithm. <br />If set to **False**: No slicers will be ignored <br />\n",
    "\n",
    "\n",
    "## Predict and merge\n",
    "\n",
    "```python\n",
    "from fastai.vision import *\n",
    "from PIL import Image\n",
    "\n",
    "# Define individuell metrics from exported fastai model\n",
    "def acc_isprs(input, target):\n",
    "    target = target.squeeze(1)\n",
    "    mask = target != void_code \n",
    "    return (input.argmax(dim=1)[mask]==target[mask]).float().mean()\n",
    "metrics = acc_isprs\n",
    "f_score1 = partial(fbeta , beta=1)\n",
    "\n",
    "# Path to exported fastai model\n",
    "path_model  = Path('D:/david/va_po/im_train/va_5-9_po__9-13_448')\n",
    "\n",
    "# Type in the amount of rows and columns to rearrange the image\n",
    "rows, columns = 7,7\n",
    "\n",
    "ImageSlicer.predict_from_fastai_model(path_fastai_model= path_model,inp_d= inp_d, dir_name=dir_name, \n",
    "palette= palette , rows= rows, columns= columns )\n",
    "```\n",
    "This is a alterd version from [AnmolChachra/Image_slice]( https://github.com/AnmolChachra/Image-Slicer)"
   ]
  },
  {
   "cell_type": "code",
   "execution_count": null,
   "metadata": {},
   "outputs": [],
   "source": []
  }
 ],
 "metadata": {
  "kernelspec": {
   "display_name": "Python 3",
   "language": "python",
   "name": "python3"
  },
  "language_info": {
   "codemirror_mode": {
    "name": "ipython",
    "version": 3
   },
   "file_extension": ".py",
   "mimetype": "text/x-python",
   "name": "python",
   "nbconvert_exporter": "python",
   "pygments_lexer": "ipython3",
   "version": "3.6.7"
  }
 },
 "nbformat": 4,
 "nbformat_minor": 2
}
